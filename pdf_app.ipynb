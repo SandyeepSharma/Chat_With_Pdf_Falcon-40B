{
 "cells": [
  {
   "cell_type": "code",
   "execution_count": 6,
   "metadata": {},
   "outputs": [
    {
     "name": "stdout",
     "output_type": "stream",
     "text": [
      "Requirement already satisfied: streamlit in /Users/sandeepsharma/anaconda3/envs/GenAI/lib/python3.11/site-packages (1.28.1)\n",
      "Requirement already satisfied: altair<6,>=4.0 in /Users/sandeepsharma/anaconda3/envs/GenAI/lib/python3.11/site-packages (from streamlit) (5.1.2)\n",
      "Requirement already satisfied: blinker<2,>=1.0.0 in /Users/sandeepsharma/anaconda3/envs/GenAI/lib/python3.11/site-packages (from streamlit) (1.7.0)\n",
      "Requirement already satisfied: cachetools<6,>=4.0 in /Users/sandeepsharma/anaconda3/envs/GenAI/lib/python3.11/site-packages (from streamlit) (5.3.2)\n",
      "Requirement already satisfied: click<9,>=7.0 in /Users/sandeepsharma/anaconda3/envs/GenAI/lib/python3.11/site-packages (from streamlit) (8.1.7)\n",
      "Requirement already satisfied: importlib-metadata<7,>=1.4 in /Users/sandeepsharma/anaconda3/envs/GenAI/lib/python3.11/site-packages (from streamlit) (6.8.0)\n",
      "Requirement already satisfied: numpy<2,>=1.19.3 in /Users/sandeepsharma/anaconda3/envs/GenAI/lib/python3.11/site-packages (from streamlit) (1.26.1)\n",
      "Requirement already satisfied: packaging<24,>=16.8 in /Users/sandeepsharma/anaconda3/envs/GenAI/lib/python3.11/site-packages (from streamlit) (23.1)\n",
      "Requirement already satisfied: pandas<3,>=1.3.0 in /Users/sandeepsharma/anaconda3/envs/GenAI/lib/python3.11/site-packages (from streamlit) (2.1.2)\n",
      "Requirement already satisfied: pillow<11,>=7.1.0 in /Users/sandeepsharma/anaconda3/envs/GenAI/lib/python3.11/site-packages (from streamlit) (10.1.0)\n",
      "Requirement already satisfied: protobuf<5,>=3.20 in /Users/sandeepsharma/anaconda3/envs/GenAI/lib/python3.11/site-packages (from streamlit) (4.25.0)\n",
      "Requirement already satisfied: pyarrow>=6.0 in /Users/sandeepsharma/anaconda3/envs/GenAI/lib/python3.11/site-packages (from streamlit) (14.0.0)\n",
      "Requirement already satisfied: python-dateutil<3,>=2.7.3 in /Users/sandeepsharma/anaconda3/envs/GenAI/lib/python3.11/site-packages (from streamlit) (2.8.2)\n",
      "Requirement already satisfied: requests<3,>=2.27 in /Users/sandeepsharma/anaconda3/envs/GenAI/lib/python3.11/site-packages (from streamlit) (2.31.0)\n",
      "Requirement already satisfied: rich<14,>=10.14.0 in /Users/sandeepsharma/anaconda3/envs/GenAI/lib/python3.11/site-packages (from streamlit) (13.6.0)\n",
      "Requirement already satisfied: tenacity<9,>=8.1.0 in /Users/sandeepsharma/anaconda3/envs/GenAI/lib/python3.11/site-packages (from streamlit) (8.2.3)\n",
      "Requirement already satisfied: toml<2,>=0.10.1 in /Users/sandeepsharma/anaconda3/envs/GenAI/lib/python3.11/site-packages (from streamlit) (0.10.2)\n",
      "Requirement already satisfied: typing-extensions<5,>=4.3.0 in /Users/sandeepsharma/anaconda3/envs/GenAI/lib/python3.11/site-packages (from streamlit) (4.7.1)\n",
      "Requirement already satisfied: tzlocal<6,>=1.1 in /Users/sandeepsharma/anaconda3/envs/GenAI/lib/python3.11/site-packages (from streamlit) (5.2)\n",
      "Requirement already satisfied: validators<1,>=0.2 in /Users/sandeepsharma/anaconda3/envs/GenAI/lib/python3.11/site-packages (from streamlit) (0.22.0)\n",
      "Requirement already satisfied: gitpython!=3.1.19,<4,>=3.0.7 in /Users/sandeepsharma/anaconda3/envs/GenAI/lib/python3.11/site-packages (from streamlit) (3.1.40)\n",
      "Requirement already satisfied: pydeck<1,>=0.8.0b4 in /Users/sandeepsharma/anaconda3/envs/GenAI/lib/python3.11/site-packages (from streamlit) (0.8.1b0)\n",
      "Requirement already satisfied: tornado<7,>=6.0.3 in /Users/sandeepsharma/anaconda3/envs/GenAI/lib/python3.11/site-packages (from streamlit) (6.3.3)\n",
      "Requirement already satisfied: jinja2 in /Users/sandeepsharma/anaconda3/envs/GenAI/lib/python3.11/site-packages (from altair<6,>=4.0->streamlit) (3.1.2)\n",
      "Requirement already satisfied: jsonschema>=3.0 in /Users/sandeepsharma/anaconda3/envs/GenAI/lib/python3.11/site-packages (from altair<6,>=4.0->streamlit) (4.17.3)\n",
      "Requirement already satisfied: toolz in /Users/sandeepsharma/anaconda3/envs/GenAI/lib/python3.11/site-packages (from altair<6,>=4.0->streamlit) (0.12.0)\n",
      "Requirement already satisfied: gitdb<5,>=4.0.1 in /Users/sandeepsharma/anaconda3/envs/GenAI/lib/python3.11/site-packages (from gitpython!=3.1.19,<4,>=3.0.7->streamlit) (4.0.11)\n",
      "Requirement already satisfied: zipp>=0.5 in /Users/sandeepsharma/anaconda3/envs/GenAI/lib/python3.11/site-packages (from importlib-metadata<7,>=1.4->streamlit) (3.17.0)\n",
      "Requirement already satisfied: pytz>=2020.1 in /Users/sandeepsharma/anaconda3/envs/GenAI/lib/python3.11/site-packages (from pandas<3,>=1.3.0->streamlit) (2023.3.post1)\n",
      "Requirement already satisfied: tzdata>=2022.1 in /Users/sandeepsharma/anaconda3/envs/GenAI/lib/python3.11/site-packages (from pandas<3,>=1.3.0->streamlit) (2023.3)\n",
      "Requirement already satisfied: six>=1.5 in /Users/sandeepsharma/anaconda3/envs/GenAI/lib/python3.11/site-packages (from python-dateutil<3,>=2.7.3->streamlit) (1.16.0)\n",
      "Requirement already satisfied: charset-normalizer<4,>=2 in /Users/sandeepsharma/anaconda3/envs/GenAI/lib/python3.11/site-packages (from requests<3,>=2.27->streamlit) (3.3.1)\n",
      "Requirement already satisfied: idna<4,>=2.5 in /Users/sandeepsharma/anaconda3/envs/GenAI/lib/python3.11/site-packages (from requests<3,>=2.27->streamlit) (3.4)\n",
      "Requirement already satisfied: urllib3<3,>=1.21.1 in /Users/sandeepsharma/anaconda3/envs/GenAI/lib/python3.11/site-packages (from requests<3,>=2.27->streamlit) (2.0.7)\n",
      "Requirement already satisfied: certifi>=2017.4.17 in /Users/sandeepsharma/anaconda3/envs/GenAI/lib/python3.11/site-packages (from requests<3,>=2.27->streamlit) (2023.7.22)\n",
      "Requirement already satisfied: markdown-it-py>=2.2.0 in /Users/sandeepsharma/anaconda3/envs/GenAI/lib/python3.11/site-packages (from rich<14,>=10.14.0->streamlit) (3.0.0)\n",
      "Requirement already satisfied: pygments<3.0.0,>=2.13.0 in /Users/sandeepsharma/anaconda3/envs/GenAI/lib/python3.11/site-packages (from rich<14,>=10.14.0->streamlit) (2.15.1)\n",
      "Requirement already satisfied: smmap<6,>=3.0.1 in /Users/sandeepsharma/anaconda3/envs/GenAI/lib/python3.11/site-packages (from gitdb<5,>=4.0.1->gitpython!=3.1.19,<4,>=3.0.7->streamlit) (5.0.1)\n",
      "Requirement already satisfied: MarkupSafe>=2.0 in /Users/sandeepsharma/anaconda3/envs/GenAI/lib/python3.11/site-packages (from jinja2->altair<6,>=4.0->streamlit) (2.1.1)\n",
      "Requirement already satisfied: attrs>=17.4.0 in /Users/sandeepsharma/anaconda3/envs/GenAI/lib/python3.11/site-packages (from jsonschema>=3.0->altair<6,>=4.0->streamlit) (23.1.0)\n",
      "Requirement already satisfied: pyrsistent!=0.17.0,!=0.17.1,!=0.17.2,>=0.14.0 in /Users/sandeepsharma/anaconda3/envs/GenAI/lib/python3.11/site-packages (from jsonschema>=3.0->altair<6,>=4.0->streamlit) (0.18.0)\n",
      "Requirement already satisfied: mdurl~=0.1 in /Users/sandeepsharma/anaconda3/envs/GenAI/lib/python3.11/site-packages (from markdown-it-py>=2.2.0->rich<14,>=10.14.0->streamlit) (0.1.2)\n",
      "Requirement already satisfied: python-dotenv in /Users/sandeepsharma/anaconda3/envs/GenAI/lib/python3.11/site-packages (1.0.0)\n",
      "Requirement already satisfied: PyPDF2 in /Users/sandeepsharma/anaconda3/envs/GenAI/lib/python3.11/site-packages (3.0.1)\n",
      "Requirement already satisfied: faiss-cpu in /Users/sandeepsharma/anaconda3/envs/GenAI/lib/python3.11/site-packages (1.7.4)\n"
     ]
    }
   ],
   "source": [
    "!pip install streamlit\n",
    "!pip install python-dotenv\n",
    "!pip install PyPDF2\n",
    "!pip install faiss-cpu\n",
    "!pip install transformers\n",
    "!pip install InstructorEmbedding"
   ]
  },
  {
   "cell_type": "code",
   "execution_count": 12,
   "metadata": {},
   "outputs": [],
   "source": [
    "import streamlit as st\n",
    "from dotenv import load_dotenv\n",
    "from PyPDF2 import PdfReader\n",
    "from langchain.text_splitter import CharacterTextSplitter\n",
    "from langchain.embeddings import HuggingFaceBgeEmbeddings\n",
    "from langchain.vectorstores import FAISS\n",
    "from langchain.memory import ConversationBufferMemory\n",
    "from langchain.chains import ConversationalRetrievalChain\n",
    "from templates import bot_template, user_template, css\n",
    "from langchain.llms import HuggingFaceHub\n"
   ]
  },
  {
   "cell_type": "code",
   "execution_count": 10,
   "metadata": {},
   "outputs": [],
   "source": [
    "def pdf_folder(folder_files):\n",
    "    text = \"\"\n",
    "\n",
    "    for files in folder_files:\n",
    "        files_data = PdfReader(files)\n",
    "        for page in files_data.pages:\n",
    "            text_data+= page.extract_text()\n",
    "    \n",
    "    return text_data\n"
   ]
  },
  {
   "cell_type": "code",
   "execution_count": 11,
   "metadata": {},
   "outputs": [],
   "source": [
    "def get_chunk_text(text):\n",
    "    \n",
    "    text_splitter = CharacterTextSplitter(\n",
    "    separator = \"\\n\",\n",
    "    chunk_size = 1000,\n",
    "    chunk_overlap = 200,\n",
    "    length_function = len\n",
    "    )\n",
    "\n",
    "    chunks = text_splitter.split_text(text)\n",
    "\n",
    "    return chunks"
   ]
  },
  {
   "cell_type": "code",
   "execution_count": 13,
   "metadata": {},
   "outputs": [],
   "source": [
    "def get_vector_store(text_chunks):\n",
    "    \n",
    "    # For Huggingface Embeddings\n",
    "\n",
    "    embeddings = HuggingFaceInstructEmbeddings(model_name = \"hkunlp/instructor-xl\")\n",
    "\n",
    "    vectorstore = FAISS.from_texts(texts = text_chunks, embedding = embeddings)\n",
    "    \n",
    "    return vectorstore"
   ]
  },
  {
   "cell_type": "code",
   "execution_count": 14,
   "metadata": {},
   "outputs": [],
   "source": [
    "def get_conversation_chain(vector_store):\n",
    "    \n",
    "    # HuggingFace Model\n",
    "\n",
    "    llm = HuggingFaceHub(repo_id=\"tiiuae/falcon-40b-instruct\", model_kwargs={\"temperature\":0.5, \"max_length\":512})\n",
    "\n",
    "    memory = ConversationBufferMemory(memory_key='chat_history', return_messages=True)\n",
    "\n",
    "    conversation_chain = ConversationalRetrievalChain.from_llm(\n",
    "        llm = llm,\n",
    "        retriever = vector_store.as_retriever(),\n",
    "        memory = memory\n",
    "    )\n",
    "\n",
    "    return conversation_chain"
   ]
  },
  {
   "cell_type": "code",
   "execution_count": 15,
   "metadata": {},
   "outputs": [],
   "source": [
    "def handle_user_input(question):\n",
    "\n",
    "    response = st.session_state.conversation({'question':question})\n",
    "    st.session_state.chat_history = response['chat_history']\n",
    "\n",
    "    for i, message in enumerate(st.session_state.chat_history):\n",
    "        if i % 2 == 0:\n",
    "            st.write(user_template.replace(\"{{MSG}}\", message.content), unsafe_allow_html=True)\n",
    "        else:\n",
    "            st.write(bot_template.replace(\"{{MSG}}\", message.content), unsafe_allow_html=True)"
   ]
  },
  {
   "cell_type": "code",
   "execution_count": 18,
   "metadata": {},
   "outputs": [],
   "source": [
    "def main():\n",
    "    load_dotenv()\n",
    "    st.set_page_config(page_title='Chat with Your own PDFs', page_icon=':books:')\n",
    "\n",
    "    st.write(css, unsafe_allow_html=True)\n",
    "    \n",
    "    if \"conversation\" not in st.session_state:\n",
    "        st.session_state.conversation = None\n",
    "\n",
    "    if \"chat_history\" not in st.session_state:\n",
    "        st.session_state.chat_history = None\n",
    "    \n",
    "    st.header('Chat with Your own PDFs :books:')\n",
    "    question = st.text_input(\"Ask anything to your PDF: \")\n",
    "\n",
    "    if question:\n",
    "        handle_user_input(question)\n",
    "\n",
    "    with st.sidebar:\n",
    "        st.subheader(\"Upload your Documents Here: \")\n",
    "        pdf_files = st.file_uploader(\"Choose your PDF Files and Press OK\", type=['pdf'], accept_multiple_files=True)\n",
    "\n",
    "        if st.button(\"OK\"):\n",
    "            with st.spinner(\"Processing your PDFs...\"):\n",
    "\n",
    "                # Get PDF Text\n",
    "                raw_text = pdf_folder(pdf_files)\n",
    "\n",
    "                # Get Text Chunks\n",
    "                text_chunks = get_chunk_text(raw_text)\n",
    "\n",
    "                # Create Vector Store\n",
    "                \n",
    "                vector_store = get_vector_store(text_chunks)\n",
    "                st.write(\"DONE\")\n",
    "\n",
    "                # Create conversation chain\n",
    "\n",
    "                st.session_state.conversation =  get_conversation_chain(vector_store)"
   ]
  },
  {
   "cell_type": "code",
   "execution_count": 19,
   "metadata": {},
   "outputs": [],
   "source": [
    "if __name__ == '__main__':\n",
    "    main()"
   ]
  },
  {
   "cell_type": "code",
   "execution_count": null,
   "metadata": {},
   "outputs": [],
   "source": []
  }
 ],
 "metadata": {
  "kernelspec": {
   "display_name": "GenAI",
   "language": "python",
   "name": "python3"
  },
  "language_info": {
   "codemirror_mode": {
    "name": "ipython",
    "version": 3
   },
   "file_extension": ".py",
   "mimetype": "text/x-python",
   "name": "python",
   "nbconvert_exporter": "python",
   "pygments_lexer": "ipython3",
   "version": "3.11.5"
  }
 },
 "nbformat": 4,
 "nbformat_minor": 2
}
